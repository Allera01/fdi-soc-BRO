{
 "cells": [
  {
   "cell_type": "code",
   "execution_count": null,
   "id": "de5322ef-fafa-4f13-a0b2-cb5717e2cb32",
   "metadata": {},
   "outputs": [],
   "source": []
  }
 ],
 "metadata": {
  "kernelspec": {
   "display_name": "",
   "name": ""
  },
  "language_info": {
   "name": ""
  }
 },
 "nbformat": 4,
 "nbformat_minor": 5
}
